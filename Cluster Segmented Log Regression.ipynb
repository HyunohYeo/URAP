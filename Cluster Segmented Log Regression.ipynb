{
 "cells": [
  {
   "cell_type": "code",
   "execution_count": 76,
   "id": "6655b583-7f47-4c04-a29c-4348a2673d1b",
   "metadata": {},
   "outputs": [
    {
     "name": "stdout",
     "output_type": "stream",
     "text": [
      "The autoreload extension is already loaded. To reload it, use:\n",
      "  %reload_ext autoreload\n"
     ]
    }
   ],
   "source": [
    "%load_ext autoreload\n",
    "%autoreload 2\n",
    "\n",
    "import sys  \n",
    "sys.path.insert(0, '/global/u2/h/hyunohy/URAP/regressiononly/functions')\n",
    "sys.path.insert(0, '/global/u2/h/hyunohy/URAP/regressiononly/training')\n",
    "sys.path.insert(0, '/global/u2/h/hyunohy/URAP/17deg_data')"
   ]
  },
  {
   "cell_type": "code",
   "execution_count": 77,
   "id": "bab28a89-af05-4d4b-9683-4f606f076fa5",
   "metadata": {},
   "outputs": [],
   "source": [
    "from Clusterer import *\n",
    "from plotting import *\n",
    "from data_functions import *"
   ]
  },
  {
   "cell_type": "code",
   "execution_count": 78,
   "id": "a1c45f01-0b89-4d02-992f-0e1b7ed1bed5",
   "metadata": {},
   "outputs": [],
   "source": [
    "root_file = \"17deg_data/reco_pi+_45GeV_theta_17-17deg_pi+_140516_99.edm4hep.root\"\n",
    "label =\"reco_140516_99_Log\"\n",
    "detector_name = \"HcalEndcapPHitsReco\" #or \"HcalEndcapPInsertHitsReco\"\n",
    "sampling_fraction = 0.02 #or 0.0098\n",
    "\n",
    "NEvents_Max = 1_000_000 #OK if tree has less events than this\n",
    "#NEvents_Max = 100\n",
    "Energy_Bins = np.linspace(0,110,20) #Plotting\n",
    "n_calo_layers = 10\n",
    "\n",
    "take_log10 = True\n",
    "do_normalization = False\n",
    "if (take_log10):\n",
    "    Energy_Bins = np.logspace(0,2,20) #make it between 0 and 2 with 0.01 gap. \n",
    "    \n",
    "Do_Processing = True\n",
    "Do_Training = True\n",
    "#saves to path/numpy_file. Only needs to be run frist time. \n",
    "# Change to False for messing with plots"
   ]
  },
  {
   "cell_type": "code",
   "execution_count": 79,
   "id": "f5d20cb9-d696-4f18-ad33-4a738b8c144c",
   "metadata": {
    "tags": []
   },
   "outputs": [
    {
     "name": "stdout",
     "output_type": "stream",
     "text": [
      "Loaded 6000 Events\n",
      "min 1.0006531\n"
     ]
    },
    {
     "name": "stderr",
     "output_type": "stream",
     "text": [
      "/global/homes/h/hyunohy/.local/perlmutter/3.9-anaconda-2021.11/lib/python3.9/site-packages/awkward0/array/base.py:622: DeprecationWarning: `np.str` is a deprecated alias for the builtin `str`. To silence this warning, use `str` by itself. Doing this will not modify any behavior and is safe. If you specifically wanted the numpy scalar type, use `np.str_` here.\n",
      "Deprecated in NumPy 1.20; for more details and guidance: https://numpy.org/devdocs/release/1.20.0-notes.html#deprecations\n",
      "  elif isinstance(where, (cls.numpy.ndarray, AwkwardArray)) and issubclass(where.dtype.type, (numpy.str, numpy.str_)):\n",
      "/global/homes/h/hyunohy/.local/perlmutter/3.9-anaconda-2021.11/lib/python3.9/site-packages/awkward0/array/base.py:624: DeprecationWarning: `np.object` is a deprecated alias for the builtin `object`. To silence this warning, use `object` by itself. Doing this will not modify any behavior and is safe. \n",
      "Deprecated in NumPy 1.20; for more details and guidance: https://numpy.org/devdocs/release/1.20.0-notes.html#deprecations\n",
      "  elif isinstance(where, (cls.numpy.ndarray, AwkwardArray)) and issubclass(where.dtype.type, (numpy.object, numpy.object_)) and not issubclass(where.dtype.type, (bool, numpy.bool_)):\n"
     ]
    },
    {
     "name": "stdout",
     "output_type": "stream",
     "text": [
      "Getting Cell Z information\n",
      "Doing Cluster Sum for z-bin 0...\n",
      "Doing Cluster Sum for z-bin 1...\n",
      "Doing Cluster Sum for z-bin 2...\n",
      "Doing Cluster Sum for z-bin 3...\n",
      "Doing Cluster Sum for z-bin 4...\n",
      "Doing Cluster Sum for z-bin 5...\n",
      "Doing Cluster Sum for z-bin 6...\n",
      "Doing Cluster Sum for z-bin 7...\n",
      "Doing Cluster Sum for z-bin 8...\n",
      "Doing Cluster Sum for z-bin 9...\n",
      "[[3.64990236e-03 5.68237305e-03 5.69458010e-03 ... 1.86749269e-01\n",
      "  8.90624995e-02 3.27270510e-02]\n",
      " [1.65527340e-02 1.28173826e-04 4.27246094e-04 ... 0.00000000e+00\n",
      "  0.00000000e+00 0.00000000e+00]\n",
      " [5.32836920e-03 6.41479496e-03 7.57446282e-03 ... 0.00000000e+00\n",
      "  0.00000000e+00 0.00000000e+00]\n",
      " ...\n",
      " [3.20434573e-03 3.83300782e-03 3.52172853e-03 ... 0.00000000e+00\n",
      "  0.00000000e+00 0.00000000e+00]\n",
      " [1.46972658e-02 2.37188723e-01 6.95257578e-01 ... 1.00720215e-01\n",
      "  3.63037109e-02 4.22546386e-02]\n",
      " [1.28540038e-02 1.33734130e-01 1.04577027e+00 ... 8.21777329e-02\n",
      "  8.83544923e-02 3.14880370e-02]]\n",
      "Cluster Sum(s) Done!\n",
      "(6000,) CUTS\n",
      "Before Cuts, N =  (6000, 10)\n",
      "After Cuts, N =  (6000, 10)\n",
      "Applied Sampling Fraction of 0.02 to Cluster Sums\n",
      "cluster sum saved to ./reco_140516_99_Log/clusterSum.npy\n",
      " segmented_clusterSum saved to ./reco_140516_99_Log/segmented_clusterSum.npy\n",
      " genP saved to ./reco_140516_99_Log/genP.npy\n",
      " genTheta saved to ./reco_140516_99_Log/genTheta.npy\n",
      " flat_hits_e saved to ./reco_140516_99_Log/flat_hits_e.npy\n",
      " flat_hits_z saved to ./reco_140516_99_Log/flat_hits_z.npy\n",
      " sampling_fraction saved to ./reco_140516_99_Log/sampling_fraction.npy\n",
      "Files saved to ./reco_140516_99_Log/\n"
     ]
    }
   ],
   "source": [
    "if Do_Processing:\n",
    "    \n",
    "    Clusterer = Strawman_Clusterer(root_file, label, detector_name, sampling_fraction, NEvents_Max, n_calo_layers,take_log=take_log10, normalization = do_normalization)\n",
    "    Clusterer.run_segmentation_clusterer()\n",
    "\n",
    "    del Clusterer\n",
    "#Ignore: \" DeprecationWarning: `np.str` \""
   ]
  },
  {
   "cell_type": "code",
   "execution_count": 80,
   "id": "946563c1-10ee-4721-8067-feb999134517",
   "metadata": {},
   "outputs": [],
   "source": [
    "ClusterSum = load_ClusterSum(label)\n",
    "segmented_ClusterSum = load_segmented_ClusterSum(label)\n",
    "GenP = load_GenP(label)"
   ]
  },
  {
   "cell_type": "code",
   "execution_count": null,
   "id": "fa63be32-9bbb-44e3-b973-d05b50dfe35c",
   "metadata": {},
   "outputs": [
    {
     "name": "stdout",
     "output_type": "stream",
     "text": [
      "Plotting QA Distributions...\n",
      "N Z bins = 10\n"
     ]
    }
   ],
   "source": [
    "flat_hits_e = load_flat_hits_e(label)\n",
    "energy_QA_plots(flat_hits_e, GenP, segmented_ClusterSum, label)"
   ]
  },
  {
   "cell_type": "code",
   "execution_count": null,
   "id": "bb3d007a-d4f2-49b0-b751-615911442347",
   "metadata": {},
   "outputs": [],
   "source": [
    "min(GenP)"
   ]
  },
  {
   "cell_type": "code",
   "execution_count": null,
   "id": "a3393d89-7140-4033-866c-c15e54c231d2",
   "metadata": {},
   "outputs": [],
   "source": [
    "ClusterSum_vs_GenP(ClusterSum, GenP, label)"
   ]
  },
  {
   "cell_type": "code",
   "execution_count": null,
   "id": "8c1a4a57-eb46-438c-98d9-2b29af58e663",
   "metadata": {},
   "outputs": [],
   "source": [
    "plt.hist(ClusterSum)"
   ]
  },
  {
   "cell_type": "code",
   "execution_count": null,
   "id": "6f1bfae1-7be4-4b0a-8555-f92851c4000d",
   "metadata": {},
   "outputs": [],
   "source": [
    "from NN_Regression import *"
   ]
  },
  {
   "cell_type": "code",
   "execution_count": null,
   "id": "d32f06cd-2235-4e03-8290-4046406b6c7a",
   "metadata": {},
   "outputs": [],
   "source": [
    "NN_Regression = NN_Regressor(label,n_calo_layers)"
   ]
  },
  {
   "cell_type": "code",
   "execution_count": null,
   "id": "1b45b99f-91b5-4a28-b6cf-08c78f26015a",
   "metadata": {
    "tags": []
   },
   "outputs": [],
   "source": [
    "if (Do_Training):\n",
    "    NN_Regression.run_NN_regression() "
   ]
  },
  {
   "cell_type": "code",
   "execution_count": null,
   "id": "fdaa89ca-2acf-40b8-bd3f-6c6ee238ba5b",
   "metadata": {},
   "outputs": [],
   "source": [
    "x_test = (10) ** (np.load(f\"./{label}/x_test.npy\"))\n",
    "y_test = (10) ** (np.load(f\"./{label}/y_test.npy\"))\n",
    "preds = np.load(f\"./{label}/predictions.npy\")\n",
    "for i in range(len(preds)):\n",
    "    preds[i] = 10 ** preds[i]\n",
    "loss = np.load(f\"./{label}/loss.npy\")\n",
    "val_loss = np.load(f\"./{label}/val_loss.npy\")"
   ]
  },
  {
   "cell_type": "code",
   "execution_count": null,
   "id": "2af69685-ecfd-4818-b9f8-69aaaa21a4f6",
   "metadata": {},
   "outputs": [],
   "source": [
    "min(preds[:,0])"
   ]
  },
  {
   "cell_type": "code",
   "execution_count": null,
   "id": "ba99c55c-15c1-4a06-b921-979328661dbd",
   "metadata": {},
   "outputs": [],
   "source": [
    "min(y_test)"
   ]
  },
  {
   "cell_type": "code",
   "execution_count": null,
   "id": "78901910-f9ab-4588-8f04-7325a5f0a035",
   "metadata": {},
   "outputs": [],
   "source": [
    "ClusterSum_vs_GenP((preds[:,0]),y_test,label)"
   ]
  },
  {
   "cell_type": "code",
   "execution_count": null,
   "id": "67aa72c1-5552-4ca0-885b-aa4ea18b29c9",
   "metadata": {},
   "outputs": [],
   "source": [
    "Plot_Loss_Curve(loss,val_loss,label,loss_string=\"MAE\") #label loss yourself here"
   ]
  },
  {
   "cell_type": "code",
   "execution_count": null,
   "id": "2f947ad0-9bde-4203-8721-c32c837c9710",
   "metadata": {
    "tags": []
   },
   "outputs": [],
   "source": [
    "simple_sum = x_test\n",
    "if len(np.shape(x_test))>1:\n",
    "    simple_sum = np.sum(x_test,axis=-1)\n",
    "print(simple_sum)\n",
    "print(x_test)\n",
    "NN = get_res_scale(y_test,preds,Energy_Bins,label) #Label here will save. Make sure not to save strawman!\n",
    "strawman = get_res_scale(y_test,simple_sum,Energy_Bins)\n",
    "\n",
    "NN_in_RecoBins = get_res_scale_in_reco_bins(y_test,preds,simple_sum,Energy_Bins,label)\n",
    "strawman_in_RecoBins = get_res_scale_in_reco_bins(y_test,simple_sum,simple_sum,Energy_Bins)\n",
    "\n",
    "print(NN.keys())\n",
    "print(NN_in_RecoBins.keys())"
   ]
  },
  {
   "cell_type": "code",
   "execution_count": null,
   "id": "0f0b2e50-9a83-4ac5-aedc-b19912ecddd1",
   "metadata": {},
   "outputs": [],
   "source": [
    "Plot_Resolutions(NN,strawman,label)"
   ]
  },
  {
   "cell_type": "code",
   "execution_count": null,
   "id": "7dcfd889-5df7-4d95-881a-ad9d8e4cb416",
   "metadata": {},
   "outputs": [],
   "source": [
    "Plot_Energy_Scale(NN,label,sampling_fraction,strawman) \n",
    "Plot_Energy_Scale(NN_in_RecoBins,label,sampling_fraction,None,\"reco\") #might need to work with it. Binning"
   ]
  },
  {
   "cell_type": "code",
   "execution_count": null,
   "id": "24c512e5-dbee-467a-94dc-4a3c2fd96fb4",
   "metadata": {},
   "outputs": [],
   "source": [
    "plot_slices(NN[\"slices\"],NN['avg_truth'],label,Energy_Bins,\"Truth\",)"
   ]
  },
  {
   "cell_type": "code",
   "execution_count": null,
   "id": "a60ebd17-eae4-441c-92b3-2f986364ce1a",
   "metadata": {},
   "outputs": [],
   "source": [
    "plot_slices(NN[\"scale_array\"]\n",
    "            ,NN['avg_truth'],label, Energy_Bins,\"Truth\",scale=True)"
   ]
  },
  {
   "cell_type": "code",
   "execution_count": null,
   "id": "89c9fc01-1e13-4c8e-9a78-f00c4fa223ca",
   "metadata": {},
   "outputs": [],
   "source": []
  }
 ],
 "metadata": {
  "kernelspec": {
   "display_name": "NERSC Python",
   "language": "python",
   "name": "python3"
  },
  "language_info": {
   "codemirror_mode": {
    "name": "ipython",
    "version": 3
   },
   "file_extension": ".py",
   "mimetype": "text/x-python",
   "name": "python",
   "nbconvert_exporter": "python",
   "pygments_lexer": "ipython3",
   "version": "3.9.7"
  }
 },
 "nbformat": 4,
 "nbformat_minor": 5
}
